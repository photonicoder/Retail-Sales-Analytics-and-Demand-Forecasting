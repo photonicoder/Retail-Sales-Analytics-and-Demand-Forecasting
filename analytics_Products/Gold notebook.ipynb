{
 "cells": [
  {
   "cell_type": "code",
   "execution_count": 0,
   "metadata": {
    "application/vnd.databricks.v1+cell": {
     "cellMetadata": {
      "byteLimit": 2048000,
      "rowLimit": 10000
     },
     "inputWidgets": {},
     "nuid": "eec476d5-5dfd-4934-a569-ada8c5ebb790",
     "showTitle": false,
     "tableResultSettingsMap": {},
     "title": ""
    }
   },
   "outputs": [],
   "source": [
    "from pyspark.sql.functions import col, explode\n",
    "\n",
    "# Load Bronze Layer Data\n",
    "products_df = spark.read.format(\"delta\").load(\"abfss://silver@nishantchurndata.dfs.core.windows.net/products_fact\")\n",
    "carts_df = spark.read.format(\"delta\").load(\"abfss://silver@nishantchurndata.dfs.core.windows.net/sales_fact\")\n",
    "users_df = spark.read.format(\"delta\").load(\"abfss://silver@nishantchurndata.dfs.core.windows.net/Customers_data_df\")\n",
    "\n",
    "\n",
    "# Join tables\n",
    "sales_df = (\n",
    "    carts_df\n",
    "    .join(users_df, carts_df.user_id == users_df.user_id, \"left\")\n",
    "    .join(products_df, carts_df.product_id == products_df.product_Id, \"left\")\n",
    "    .select(\n",
    "        col(\"cart_id\").alias(\"transaction_id\"),\n",
    "        users_df.user_id.alias(\"customer_id\"),\n",
    "        carts_df.quantity.alias(\"quantity\"),\n",
    "        products_df.price.alias(\"unit_price\"),\n",
    "        products_df.title.alias(\"product_name\"),\n",
    "        users_df.username.alias(\"customer_name\"),\n",
    "        col(\"date\").alias(\"transaction_date\")\n",
    "    )\n",
    ")\n",
    "sales_df.display()\n"
   ]
  },
  {
   "cell_type": "code",
   "execution_count": 0,
   "metadata": {
    "application/vnd.databricks.v1+cell": {
     "cellMetadata": {
      "byteLimit": 2048000,
      "rowLimit": 10000
     },
     "inputWidgets": {},
     "nuid": "ef23a7e1-ac58-42a5-9861-e94b18c3cc0c",
     "showTitle": false,
     "tableResultSettingsMap": {},
     "title": ""
    }
   },
   "outputs": [],
   "source": [
    "from pyspark.sql.functions import col, explode, sum, avg, to_date\n",
    "\n",
    "# Aggregate sales by product\n",
    "product_sales_df = sales_df.groupBy(\"product_name\").agg(\n",
    "    sum(col(\"quantity\")).alias(\"total_units_sold\"),\n",
    "    sum(col(\"quantity\") * col(\"unit_price\")).alias(\"total_revenue\"),\n",
    "    avg(col(\"unit_price\")).alias(\"average_price\")\n",
    ")\n",
    "\n",
    "# Aggregate sales by date for forecasting\n",
    "daily_sales_df = sales_df.groupBy(to_date(col(\"transaction_date\")).alias(\"date\")).agg(\n",
    "    sum(\"quantity\").alias(\"total_units_sold\"),\n",
    "    sum(col(\"quantity\") * col(\"unit_price\")).alias(\"total_revenue\")\n",
    ")\n",
    "\n"
   ]
  },
  {
   "cell_type": "code",
   "execution_count": 0,
   "metadata": {
    "application/vnd.databricks.v1+cell": {
     "cellMetadata": {},
     "inputWidgets": {},
     "nuid": "1ee1d9ed-db4e-4542-b699-64e3ba0173a2",
     "showTitle": false,
     "tableResultSettingsMap": {},
     "title": ""
    }
   },
   "outputs": [],
   "source": [
    "abfss://bronze@nishantchurndata.dfs.core.windows.net/products"
   ]
  },
  {
   "cell_type": "code",
   "execution_count": 0,
   "metadata": {
    "application/vnd.databricks.v1+cell": {
     "cellMetadata": {
      "byteLimit": 2048000,
      "rowLimit": 10000
     },
     "inputWidgets": {},
     "nuid": "db565af2-11d9-42cb-8cab-917340bab654",
     "showTitle": false,
     "tableResultSettingsMap": {},
     "title": ""
    }
   },
   "outputs": [],
   "source": [
    "# Store in Gold Layer\n",
    "product_sales_df.write.format(\"delta\").mode(\"overwrite\").save(\"abfss://gold@nishantchurndata.dfs.core.windows.net/product_sales\")\n",
    "daily_sales_df.write.format(\"delta\").mode(\"overwrite\").save(\"abfss://gold@nishantchurndata.dfs.core.windows.net/daily_sales\")\n"
   ]
  },
  {
   "cell_type": "code",
   "execution_count": 0,
   "metadata": {
    "application/vnd.databricks.v1+cell": {
     "cellMetadata": {
      "byteLimit": 2048000,
      "rowLimit": 10000
     },
     "inputWidgets": {},
     "nuid": "2525c217-e098-4300-b74f-d6f49232761d",
     "showTitle": false,
     "tableResultSettingsMap": {},
     "title": ""
    }
   },
   "outputs": [],
   "source": [
    "products_df.write.format(\"delta\").mode(\"overwrite\") \\\n",
    "        .saveAsTable(\"gold.analytics_products.product_sales_df\")"
   ]
  },
  {
   "cell_type": "code",
   "execution_count": 0,
   "metadata": {
    "application/vnd.databricks.v1+cell": {
     "cellMetadata": {
      "byteLimit": 2048000,
      "rowLimit": 10000
     },
     "inputWidgets": {},
     "nuid": "48123708-82d3-46ac-a500-be36d7ba456b",
     "showTitle": false,
     "tableResultSettingsMap": {},
     "title": ""
    }
   },
   "outputs": [],
   "source": [
    "daily_sales_df.write.format(\"delta\").mode(\"overwrite\") \\\n",
    "        .saveAsTable(\"gold.analytics_products.daily_sales_df\")"
   ]
  }
 ],
 "metadata": {
  "application/vnd.databricks.v1+notebook": {
   "computePreferences": null,
   "dashboards": [],
   "environmentMetadata": {
    "base_environment": "",
    "client": "1"
   },
   "language": "python",
   "notebookMetadata": {
    "pythonIndentUnit": 4
   },
   "notebookName": "Gold notebook",
   "widgets": {}
  },
  "language_info": {
   "name": "python"
  }
 },
 "nbformat": 4,
 "nbformat_minor": 0
}
