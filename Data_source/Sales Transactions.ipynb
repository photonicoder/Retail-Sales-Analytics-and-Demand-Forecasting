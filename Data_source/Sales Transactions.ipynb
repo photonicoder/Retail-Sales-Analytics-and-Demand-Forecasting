{
 "cells": [
  {
   "cell_type": "code",
   "execution_count": 0,
   "metadata": {
    "application/vnd.databricks.v1+cell": {
     "cellMetadata": {
      "byteLimit": 2048000,
      "rowLimit": 10000
     },
     "inputWidgets": {},
     "nuid": "e4745a33-4f43-4909-bf00-1924cac409e3",
     "showTitle": false,
     "tableResultSettingsMap": {},
     "title": ""
    }
   },
   "outputs": [],
   "source": [
    "import requests\n",
    "import json\n",
    "from pyspark.sql import SparkSession\n",
    "from pyspark.sql.functions import explode, col\n",
    "\n",
    "\n",
    "# API URL\n",
    "api_url = \"https://fakestoreapi.com/carts\" \n",
    "\n",
    "# Fetch data from API\n",
    "response = requests.get(api_url)\n",
    "\n",
    "# Check if request was successful\n",
    "if response.status_code == 200:\n",
    "    data = response.json()  # Convert JSON response to Python dict\n",
    "    \n",
    "    # Convert list of dictionaries to RDD\n",
    "    rdd = spark.sparkContext.parallelize(data)\n",
    "    \n",
    "    # Convert RDD to PySpark DataFrame using inferSchema\n",
    "    spark_df = spark.read.json(rdd)\n",
    "    df_exploded = spark_df.withColumn(\"product\", explode(col(\"products\")))\n",
    "\n",
    "# # Select required fields\n",
    "#     df_transformed = df_exploded.select(\n",
    "#         col(\"id\").alias(\"cart_id\"),\n",
    "#         col(\"userId\").alias(\"user_id\"),\n",
    "#         col(\"date\"),\n",
    "#         col(\"product.productId\").alias(\"product_id\"),\n",
    "#         col(\"product.quantity\")\n",
    "#     )\n",
    "\n",
    "    # Show DataFrame\n",
    "    df_exploded.display()\n",
    "else:\n",
    "    print(\"Failed to fetch data from API\")\n"
   ]
  },
  {
   "cell_type": "code",
   "execution_count": 0,
   "metadata": {
    "application/vnd.databricks.v1+cell": {
     "cellMetadata": {
      "byteLimit": 2048000,
      "rowLimit": 10000
     },
     "inputWidgets": {},
     "nuid": "c93d6260-be25-4e05-9d24-7b33a657a5ca",
     "showTitle": false,
     "tableResultSettingsMap": {},
     "title": ""
    }
   },
   "outputs": [],
   "source": [
    "df_exploded.display()\n"
   ]
  },
  {
   "cell_type": "code",
   "execution_count": 0,
   "metadata": {
    "application/vnd.databricks.v1+cell": {
     "cellMetadata": {
      "byteLimit": 2048000,
      "rowLimit": 10000
     },
     "inputWidgets": {},
     "nuid": "3dfb5704-f8b3-4ff6-9cfe-f7fe85bc347e",
     "showTitle": false,
     "tableResultSettingsMap": {},
     "title": ""
    }
   },
   "outputs": [],
   "source": [
    "# Save the DataFrame in Delta format to ADLS Gen 2\n",
    "df_exploded.write.format(\"delta\") \\\n",
    "    .mode(\"overwrite\") \\\n",
    "    .save(\"abfss://bronze@nishantchurndata.dfs.core.windows.net/sales\")\n"
   ]
  },
  {
   "cell_type": "code",
   "execution_count": 0,
   "metadata": {
    "application/vnd.databricks.v1+cell": {
     "cellMetadata": {},
     "inputWidgets": {},
     "nuid": "a6e46edd-b640-466e-bdc1-bc80306d847f",
     "showTitle": false,
     "tableResultSettingsMap": {},
     "title": ""
    }
   },
   "outputs": [],
   "source": []
  }
 ],
 "metadata": {
  "application/vnd.databricks.v1+notebook": {
   "computePreferences": null,
   "dashboards": [],
   "environmentMetadata": {
    "base_environment": "",
    "client": "1"
   },
   "language": "python",
   "notebookMetadata": {
    "pythonIndentUnit": 4
   },
   "notebookName": "Sales Transactions",
   "widgets": {}
  },
  "language_info": {
   "name": "python"
  }
 },
 "nbformat": 4,
 "nbformat_minor": 0
}
