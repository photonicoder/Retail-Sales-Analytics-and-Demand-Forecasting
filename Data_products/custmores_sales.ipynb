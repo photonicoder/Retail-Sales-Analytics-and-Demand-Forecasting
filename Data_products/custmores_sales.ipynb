{
 "cells": [
  {
   "cell_type": "code",
   "execution_count": 0,
   "metadata": {
    "application/vnd.databricks.v1+cell": {
     "cellMetadata": {
      "byteLimit": 2048000,
      "rowLimit": 10000
     },
     "inputWidgets": {},
     "nuid": "080c9537-903a-489a-937f-07433b7ba488",
     "showTitle": false,
     "tableResultSettingsMap": {},
     "title": ""
    }
   },
   "outputs": [],
   "source": [
    "from pyspark.sql import *\n",
    "from pyspark.sql.functions import *"
   ]
  },
  {
   "cell_type": "code",
   "execution_count": 0,
   "metadata": {
    "application/vnd.databricks.v1+cell": {
     "cellMetadata": {
      "byteLimit": 2048000,
      "rowLimit": 10000
     },
     "inputWidgets": {},
     "nuid": "4902a621-247c-4268-91bd-a301d80e07fa",
     "showTitle": false,
     "tableResultSettingsMap": {},
     "title": ""
    }
   },
   "outputs": [],
   "source": [
    " Customers_data_dfs = spark.read.format(\"delta\").load(\"abfss://bronze@nishantchurndata.dfs.core.windows.net/Customers_data_df\")\n",
    " Customers_data_df.display()"
   ]
  },
  {
   "cell_type": "code",
   "execution_count": 0,
   "metadata": {
    "application/vnd.databricks.v1+cell": {
     "cellMetadata": {
      "byteLimit": 2048000,
      "rowLimit": 10000
     },
     "inputWidgets": {},
     "nuid": "da2d6672-f1ab-431f-8033-f5aea67ecb5b",
     "showTitle": false,
     "tableResultSettingsMap": {},
     "title": ""
    }
   },
   "outputs": [],
   "source": [
    " Customers_data_df=Customers_data_dfs.select(\n",
    "                                      col(\"address.city\").alias(\"city\"),\n",
    "                                      col(\"address.street\").alias(\"street\"),\n",
    "                                      col(\"address.zipcode\").alias(\"zipcode\"),\n",
    "                                      col(\"email\"),\n",
    "                                      col(\"id\").alias(\"user_id\"),\n",
    "                                      col(\"name.firstname\").alias(\"firstname\"),\n",
    "                                      col(\"name.lastname\").alias(\"lastname\"),\n",
    "                                      \n",
    "                                      col(\"phone\"),\n",
    "                                      col(\"username\"))"
   ]
  },
  {
   "cell_type": "code",
   "execution_count": 0,
   "metadata": {
    "application/vnd.databricks.v1+cell": {
     "cellMetadata": {
      "byteLimit": 2048000,
      "rowLimit": 10000
     },
     "inputWidgets": {},
     "nuid": "3cc5e22b-dd8d-4361-afb7-4f7360bcdb68",
     "showTitle": false,
     "tableResultSettingsMap": {},
     "title": ""
    }
   },
   "outputs": [],
   "source": [
    "Customers_data_df.display()\n",
    "Customers_data_df=Customers_data_df.withColumn(\"full_name\",concat(col(\"firstname\"),lit(\" \"),col(\"lastname\")))"
   ]
  },
  {
   "cell_type": "code",
   "execution_count": 0,
   "metadata": {
    "application/vnd.databricks.v1+cell": {
     "cellMetadata": {
      "byteLimit": 2048000,
      "rowLimit": 10000
     },
     "inputWidgets": {},
     "nuid": "42bcd5ce-2946-456c-a452-0394aeeef2c5",
     "showTitle": false,
     "tableResultSettingsMap": {},
     "title": ""
    }
   },
   "outputs": [],
   "source": [
    "Customers_data_df=Customers_data_df.drop(\"firstname\",\"lastname\",\"street\")"
   ]
  },
  {
   "cell_type": "code",
   "execution_count": 0,
   "metadata": {
    "application/vnd.databricks.v1+cell": {
     "cellMetadata": {
      "byteLimit": 2048000,
      "rowLimit": 10000
     },
     "inputWidgets": {},
     "nuid": "8744f8a8-2b5f-4026-b904-8c0cc609b43f",
     "showTitle": false,
     "tableResultSettingsMap": {},
     "title": ""
    }
   },
   "outputs": [],
   "source": [
    "Customers_data_df.write.format(\"delta\").mode(\"overwrite\").save(\"abfss://silver@nishantchurndata.dfs.core.windows.net/Customers_data_df\")"
   ]
  },
  {
   "cell_type": "code",
   "execution_count": 0,
   "metadata": {
    "application/vnd.databricks.v1+cell": {
     "cellMetadata": {
      "byteLimit": 2048000,
      "rowLimit": 10000
     },
     "inputWidgets": {},
     "nuid": "e024c6f1-b26e-4a7b-b98e-fd60b150f54a",
     "showTitle": false,
     "tableResultSettingsMap": {},
     "title": ""
    }
   },
   "outputs": [],
   "source": [
    "Customers_data_df.write.format(\"delta\") \\\n",
    "        .mode(\"overwrite\") \\\n",
    "        .saveAsTable(\"silver.Dataproducts.Customers_data_df\")"
   ]
  }
 ],
 "metadata": {
  "application/vnd.databricks.v1+notebook": {
   "computePreferences": null,
   "dashboards": [],
   "environmentMetadata": {
    "base_environment": "",
    "client": "1"
   },
   "language": "python",
   "notebookMetadata": {
    "pythonIndentUnit": 4
   },
   "notebookName": "custmores_sales",
   "widgets": {}
  },
  "language_info": {
   "name": "python"
  }
 },
 "nbformat": 4,
 "nbformat_minor": 0
}
